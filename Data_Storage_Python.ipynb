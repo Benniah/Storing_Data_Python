{
 "cells": [
  {
   "cell_type": "code",
   "execution_count": null,
   "metadata": {},
   "outputs": [],
   "source": [
    "#CONVERTING DATA TO PICKLE AND READING IT BACK TO PYTHON\n",
    "\n",
    "#Data Storage Using Pickle \n",
    "import pandas as pd\n",
    "import tables\n",
    "\n",
    "#Create an array using numpy\n",
    "data = [[\"Aa\",26,56],[\"Bb\",24,55],[\"Cc\",25,60]]\n",
    "\n",
    "#Convert to a pandas dataframe\n",
    "df = pd.DataFrame(data, columns = [\"Name\",\"Age\",\"Weight\"])\n",
    "\n",
    "#Save it to disk as a pickle\n",
    "df.to_pickle('df_pickle')\n",
    "\n",
    "#Load the pickled data\n",
    "data_new = pd.read_pickle('df_pickle')\n",
    "\n",
    "print(data_new)\n",
    "\n",
    "\n",
    "#Data Storage Using HDF5\n",
    "from pandas import HDFStore\n",
    "store = pd.HDFStore('storage.h5')\n",
    "\n",
    "#Adding dataframe to the HDF5 file\n",
    "store.put('obj1', df , format ='table',data_columns = 'True')\n",
    "\n",
    "#Create a new data frame to append to the first one\n",
    "data1 =[['Dd' , 27,57]]\n",
    "df1 = pd.DataFrame(data1,columns =[\"Name\",\"Age\",\"Weight\"])\n",
    "\n",
    "store.append('obj1',df1, format ='table', data_columns = 'True')\n",
    "\n",
    "#View the added dataframe\n",
    "print(store['obj1'])"
   ]
  }
 ],
 "metadata": {
  "kernelspec": {
   "display_name": "Python 3",
   "language": "python",
   "name": "python3"
  },
  "language_info": {
   "codemirror_mode": {
    "name": "ipython",
    "version": 3
   },
   "file_extension": ".py",
   "mimetype": "text/x-python",
   "name": "python",
   "nbconvert_exporter": "python",
   "pygments_lexer": "ipython3",
   "version": "3.7.3"
  }
 },
 "nbformat": 4,
 "nbformat_minor": 2
}
